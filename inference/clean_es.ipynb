{
 "cells": [
  {
   "cell_type": "markdown",
   "id": "67dd918d",
   "metadata": {},
   "source": [
    "# Kết nối Elasticsearch"
   ]
  },
  {
   "cell_type": "code",
   "execution_count": 7,
   "id": "7f0fbd9b",
   "metadata": {},
   "outputs": [
    {
     "name": "stdout",
     "output_type": "stream",
     "text": [
      "{'name': '35f9c357c43a', 'cluster_name': 'docker-cluster', 'cluster_uuid': 'mdVvttxWQ4OwubE3lDGk6A', 'version': {'number': '8.15.0', 'build_flavor': 'default', 'build_type': 'docker', 'build_hash': '1a77947f34deddb41af25e6f0ddb8e830159c179', 'build_date': '2024-08-05T10:05:34.233336849Z', 'build_snapshot': False, 'lucene_version': '9.11.1', 'minimum_wire_compatibility_version': '7.17.0', 'minimum_index_compatibility_version': '7.0.0'}, 'tagline': 'You Know, for Search'}\n"
     ]
    }
   ],
   "source": [
    "import pandas as pd\n",
    "from elasticsearch import Elasticsearch\n",
    "from sentence_transformers import SentenceTransformer\n",
    "from indexMapping import indexMapping\n",
    "\n",
    "\n",
    "es = Elasticsearch(\n",
    "\"http://localhost:9200\",\n",
    ")\n",
    "client = es.info()\n",
    "print(client)"
   ]
  },
  {
   "cell_type": "markdown",
   "id": "856d502e",
   "metadata": {},
   "source": [
    "# Lọc CSV và lưu vào cleaned_data.csv"
   ]
  },
  {
   "cell_type": "code",
   "execution_count": 8,
   "id": "6ba76e3e",
   "metadata": {},
   "outputs": [
    {
     "data": {
      "text/html": [
       "<div>\n",
       "<style scoped>\n",
       "    .dataframe tbody tr th:only-of-type {\n",
       "        vertical-align: middle;\n",
       "    }\n",
       "\n",
       "    .dataframe tbody tr th {\n",
       "        vertical-align: top;\n",
       "    }\n",
       "\n",
       "    .dataframe thead th {\n",
       "        text-align: right;\n",
       "    }\n",
       "</style>\n",
       "<table border=\"1\" class=\"dataframe\">\n",
       "  <thead>\n",
       "    <tr style=\"text-align: right;\">\n",
       "      <th></th>\n",
       "      <th>Price</th>\n",
       "      <th>Area</th>\n",
       "      <th>Position</th>\n",
       "      <th>Type</th>\n",
       "      <th>Benefit</th>\n",
       "    </tr>\n",
       "  </thead>\n",
       "  <tbody>\n",
       "    <tr>\n",
       "      <th>0</th>\n",
       "      <td>False</td>\n",
       "      <td>False</td>\n",
       "      <td>False</td>\n",
       "      <td>False</td>\n",
       "      <td>False</td>\n",
       "    </tr>\n",
       "    <tr>\n",
       "      <th>1</th>\n",
       "      <td>False</td>\n",
       "      <td>False</td>\n",
       "      <td>False</td>\n",
       "      <td>False</td>\n",
       "      <td>False</td>\n",
       "    </tr>\n",
       "    <tr>\n",
       "      <th>2</th>\n",
       "      <td>False</td>\n",
       "      <td>False</td>\n",
       "      <td>False</td>\n",
       "      <td>False</td>\n",
       "      <td>False</td>\n",
       "    </tr>\n",
       "    <tr>\n",
       "      <th>3</th>\n",
       "      <td>False</td>\n",
       "      <td>False</td>\n",
       "      <td>False</td>\n",
       "      <td>False</td>\n",
       "      <td>False</td>\n",
       "    </tr>\n",
       "    <tr>\n",
       "      <th>4</th>\n",
       "      <td>False</td>\n",
       "      <td>False</td>\n",
       "      <td>False</td>\n",
       "      <td>False</td>\n",
       "      <td>False</td>\n",
       "    </tr>\n",
       "    <tr>\n",
       "      <th>...</th>\n",
       "      <td>...</td>\n",
       "      <td>...</td>\n",
       "      <td>...</td>\n",
       "      <td>...</td>\n",
       "      <td>...</td>\n",
       "    </tr>\n",
       "    <tr>\n",
       "      <th>74300</th>\n",
       "      <td>True</td>\n",
       "      <td>True</td>\n",
       "      <td>True</td>\n",
       "      <td>False</td>\n",
       "      <td>False</td>\n",
       "    </tr>\n",
       "    <tr>\n",
       "      <th>74301</th>\n",
       "      <td>True</td>\n",
       "      <td>True</td>\n",
       "      <td>True</td>\n",
       "      <td>False</td>\n",
       "      <td>False</td>\n",
       "    </tr>\n",
       "    <tr>\n",
       "      <th>74302</th>\n",
       "      <td>False</td>\n",
       "      <td>False</td>\n",
       "      <td>False</td>\n",
       "      <td>False</td>\n",
       "      <td>False</td>\n",
       "    </tr>\n",
       "    <tr>\n",
       "      <th>74303</th>\n",
       "      <td>False</td>\n",
       "      <td>False</td>\n",
       "      <td>False</td>\n",
       "      <td>False</td>\n",
       "      <td>False</td>\n",
       "    </tr>\n",
       "    <tr>\n",
       "      <th>74304</th>\n",
       "      <td>True</td>\n",
       "      <td>True</td>\n",
       "      <td>True</td>\n",
       "      <td>False</td>\n",
       "      <td>False</td>\n",
       "    </tr>\n",
       "  </tbody>\n",
       "</table>\n",
       "<p>74305 rows × 5 columns</p>\n",
       "</div>"
      ],
      "text/plain": [
       "       Price   Area  Position   Type  Benefit\n",
       "0      False  False     False  False    False\n",
       "1      False  False     False  False    False\n",
       "2      False  False     False  False    False\n",
       "3      False  False     False  False    False\n",
       "4      False  False     False  False    False\n",
       "...      ...    ...       ...    ...      ...\n",
       "74300   True   True      True  False    False\n",
       "74301   True   True      True  False    False\n",
       "74302  False  False     False  False    False\n",
       "74303  False  False     False  False    False\n",
       "74304   True   True      True  False    False\n",
       "\n",
       "[74305 rows x 5 columns]"
      ]
     },
     "execution_count": 8,
     "metadata": {},
     "output_type": "execute_result"
    }
   ],
   "source": [
    "df = pd.read_csv(\"../info/info.csv\")\n",
    "df.isna()"
   ]
  },
  {
   "cell_type": "code",
   "execution_count": 9,
   "id": "8d334151",
   "metadata": {},
   "outputs": [],
   "source": [
    "\n",
    "\n",
    "df = df.drop_duplicates()\n",
    "df = df.dropna()\n",
    "df.to_csv(\"../info/cleaned_data.csv\", index=False)"
   ]
  },
  {
   "cell_type": "code",
   "execution_count": 10,
   "id": "0ce20998",
   "metadata": {},
   "outputs": [
    {
     "data": {
      "text/html": [
       "<div>\n",
       "<style scoped>\n",
       "    .dataframe tbody tr th:only-of-type {\n",
       "        vertical-align: middle;\n",
       "    }\n",
       "\n",
       "    .dataframe tbody tr th {\n",
       "        vertical-align: top;\n",
       "    }\n",
       "\n",
       "    .dataframe thead th {\n",
       "        text-align: right;\n",
       "    }\n",
       "</style>\n",
       "<table border=\"1\" class=\"dataframe\">\n",
       "  <thead>\n",
       "    <tr style=\"text-align: right;\">\n",
       "      <th></th>\n",
       "      <th>Price</th>\n",
       "      <th>Area</th>\n",
       "      <th>Position</th>\n",
       "      <th>Type</th>\n",
       "      <th>Benefit</th>\n",
       "    </tr>\n",
       "  </thead>\n",
       "  <tbody>\n",
       "    <tr>\n",
       "      <th>0</th>\n",
       "      <td>22,7 tỷ</td>\n",
       "      <td>140 m²</td>\n",
       "      <td>Dự án The Crown - Vinhomes Ocean Park 3, Xã Ng...</td>\n",
       "      <td>Bán-Hưng Yên-Văn Giang-Nhà biệt thự, liền kề t...</td>\n",
       "      <td>Mức giá: 22,7 tỷ - Diện tích: 140 m² - Số tầng...</td>\n",
       "    </tr>\n",
       "    <tr>\n",
       "      <th>2</th>\n",
       "      <td>4,3 tỷ</td>\n",
       "      <td>75 m²</td>\n",
       "      <td>Dự án The Greenery Hải Phòng, Phường An Lư, Th...</td>\n",
       "      <td>Bán-Hải Phòng-Thủy Nguyên-Shophouse, nhà phố t...</td>\n",
       "      <td>Mức giá: 4,3 tỷ - Diện tích: 75 m² - Hướng nhà...</td>\n",
       "    </tr>\n",
       "    <tr>\n",
       "      <th>5</th>\n",
       "      <td>18 tỷ</td>\n",
       "      <td>75 m²</td>\n",
       "      <td>Vinhomes Cổ Loa, Đường Cổ Loa, Xã Đông Hội, Đô...</td>\n",
       "      <td>Bán-Hà Nội-Đông Anh-Nhà biệt thự, liền kề tại ...</td>\n",
       "      <td>Mức giá: 18 tỷ - Diện tích: 75 m² - Pháp lý: S...</td>\n",
       "    </tr>\n",
       "    <tr>\n",
       "      <th>9</th>\n",
       "      <td>18,4 tỷ</td>\n",
       "      <td>62,5 m²</td>\n",
       "      <td>Vinhomes Cổ Loa, Đường Cổ Loa, Xã Đông Hội, Đô...</td>\n",
       "      <td>Bán-Hà Nội-Đông Anh-Nhà biệt thự, liền kề tại ...</td>\n",
       "      <td>Mức giá: 18,4 tỷ - Diện tích: 62,5 m² - Hướng ...</td>\n",
       "    </tr>\n",
       "    <tr>\n",
       "      <th>14</th>\n",
       "      <td>2,6 tỷ</td>\n",
       "      <td>59 m²</td>\n",
       "      <td>Dự án Vinhomes Ocean Park Gia Lâm, Xã Dương Xá...</td>\n",
       "      <td>Bán-Hà Nội-Gia Lâm-Căn hộ chung cư tại Vinhome...</td>\n",
       "      <td>Mức giá: 2,6 tỷ - Diện tích: 59 m² - Số phòng ...</td>\n",
       "    </tr>\n",
       "    <tr>\n",
       "      <th>...</th>\n",
       "      <td>...</td>\n",
       "      <td>...</td>\n",
       "      <td>...</td>\n",
       "      <td>...</td>\n",
       "      <td>...</td>\n",
       "    </tr>\n",
       "    <tr>\n",
       "      <th>71630</th>\n",
       "      <td>9 triệu/tháng</td>\n",
       "      <td>44 m²</td>\n",
       "      <td>Centana Thủ Thiêm, Đường Mai Chí Thọ, Phường A...</td>\n",
       "      <td>Cho thuê-Hồ Chí Minh-Quận 2-Căn hộ chung cư tạ...</td>\n",
       "      <td>Mức giá: 9 triệu/tháng - Diện tích: 44 m² - Số...</td>\n",
       "    </tr>\n",
       "    <tr>\n",
       "      <th>72009</th>\n",
       "      <td>45 triệu/tháng</td>\n",
       "      <td>200 m²</td>\n",
       "      <td>Đường Nguyễn Phước Lan, Phường Hòa Xuân, Cẩm L...</td>\n",
       "      <td>Cho thuê-Đà Nẵng-Cẩm Lệ-Nhà mặt phố tại đường ...</td>\n",
       "      <td>Mức giá: 45 triệu/tháng - Diện tích: 200 m² - ...</td>\n",
       "    </tr>\n",
       "    <tr>\n",
       "      <th>72389</th>\n",
       "      <td>38 triệu/tháng</td>\n",
       "      <td>200 m²</td>\n",
       "      <td>266 Đường Bùi Minh Trực, Phường 6, Quận 8, Hồ ...</td>\n",
       "      <td>Cho thuê-Hồ Chí Minh-Quận 8-Nhà riêng tại đườn...</td>\n",
       "      <td>Mức giá: 38 triệu/tháng - Diện tích: 200 m² - ...</td>\n",
       "    </tr>\n",
       "    <tr>\n",
       "      <th>73535</th>\n",
       "      <td>22,25 tỷ</td>\n",
       "      <td>80 m²</td>\n",
       "      <td>Dự án Vinhomes Cổ Loa, Đường Cổ Loa, Xã Đông H...</td>\n",
       "      <td>Bán-Hà Nội-Đông Anh-Nhà biệt thự, liền kề tại ...</td>\n",
       "      <td>Mức giá: 22,25 tỷ - Diện tích: 80 m² - Số phòn...</td>\n",
       "    </tr>\n",
       "    <tr>\n",
       "      <th>73919</th>\n",
       "      <td>4,89 tỷ</td>\n",
       "      <td>96 m²</td>\n",
       "      <td>Dự án Masteri Trinity Square , Xã Nghĩa Trụ, V...</td>\n",
       "      <td>Bán-Hưng Yên-Văn Giang-Căn hộ chung cư tại Mas...</td>\n",
       "      <td>Mức giá: 4,89 tỷ - Diện tích: 96 m² - Số phòng...</td>\n",
       "    </tr>\n",
       "  </tbody>\n",
       "</table>\n",
       "<p>355 rows × 5 columns</p>\n",
       "</div>"
      ],
      "text/plain": [
       "                Price     Area  \\\n",
       "0             22,7 tỷ   140 m²   \n",
       "2              4,3 tỷ    75 m²   \n",
       "5               18 tỷ    75 m²   \n",
       "9             18,4 tỷ  62,5 m²   \n",
       "14             2,6 tỷ    59 m²   \n",
       "...               ...      ...   \n",
       "71630   9 triệu/tháng    44 m²   \n",
       "72009  45 triệu/tháng   200 m²   \n",
       "72389  38 triệu/tháng   200 m²   \n",
       "73535        22,25 tỷ    80 m²   \n",
       "73919         4,89 tỷ    96 m²   \n",
       "\n",
       "                                                Position  \\\n",
       "0      Dự án The Crown - Vinhomes Ocean Park 3, Xã Ng...   \n",
       "2      Dự án The Greenery Hải Phòng, Phường An Lư, Th...   \n",
       "5      Vinhomes Cổ Loa, Đường Cổ Loa, Xã Đông Hội, Đô...   \n",
       "9      Vinhomes Cổ Loa, Đường Cổ Loa, Xã Đông Hội, Đô...   \n",
       "14     Dự án Vinhomes Ocean Park Gia Lâm, Xã Dương Xá...   \n",
       "...                                                  ...   \n",
       "71630  Centana Thủ Thiêm, Đường Mai Chí Thọ, Phường A...   \n",
       "72009  Đường Nguyễn Phước Lan, Phường Hòa Xuân, Cẩm L...   \n",
       "72389  266 Đường Bùi Minh Trực, Phường 6, Quận 8, Hồ ...   \n",
       "73535  Dự án Vinhomes Cổ Loa, Đường Cổ Loa, Xã Đông H...   \n",
       "73919  Dự án Masteri Trinity Square , Xã Nghĩa Trụ, V...   \n",
       "\n",
       "                                                    Type  \\\n",
       "0      Bán-Hưng Yên-Văn Giang-Nhà biệt thự, liền kề t...   \n",
       "2      Bán-Hải Phòng-Thủy Nguyên-Shophouse, nhà phố t...   \n",
       "5      Bán-Hà Nội-Đông Anh-Nhà biệt thự, liền kề tại ...   \n",
       "9      Bán-Hà Nội-Đông Anh-Nhà biệt thự, liền kề tại ...   \n",
       "14     Bán-Hà Nội-Gia Lâm-Căn hộ chung cư tại Vinhome...   \n",
       "...                                                  ...   \n",
       "71630  Cho thuê-Hồ Chí Minh-Quận 2-Căn hộ chung cư tạ...   \n",
       "72009  Cho thuê-Đà Nẵng-Cẩm Lệ-Nhà mặt phố tại đường ...   \n",
       "72389  Cho thuê-Hồ Chí Minh-Quận 8-Nhà riêng tại đườn...   \n",
       "73535  Bán-Hà Nội-Đông Anh-Nhà biệt thự, liền kề tại ...   \n",
       "73919  Bán-Hưng Yên-Văn Giang-Căn hộ chung cư tại Mas...   \n",
       "\n",
       "                                                 Benefit  \n",
       "0      Mức giá: 22,7 tỷ - Diện tích: 140 m² - Số tầng...  \n",
       "2      Mức giá: 4,3 tỷ - Diện tích: 75 m² - Hướng nhà...  \n",
       "5      Mức giá: 18 tỷ - Diện tích: 75 m² - Pháp lý: S...  \n",
       "9      Mức giá: 18,4 tỷ - Diện tích: 62,5 m² - Hướng ...  \n",
       "14     Mức giá: 2,6 tỷ - Diện tích: 59 m² - Số phòng ...  \n",
       "...                                                  ...  \n",
       "71630  Mức giá: 9 triệu/tháng - Diện tích: 44 m² - Số...  \n",
       "72009  Mức giá: 45 triệu/tháng - Diện tích: 200 m² - ...  \n",
       "72389  Mức giá: 38 triệu/tháng - Diện tích: 200 m² - ...  \n",
       "73535  Mức giá: 22,25 tỷ - Diện tích: 80 m² - Số phòn...  \n",
       "73919  Mức giá: 4,89 tỷ - Diện tích: 96 m² - Số phòng...  \n",
       "\n",
       "[355 rows x 5 columns]"
      ]
     },
     "execution_count": 10,
     "metadata": {},
     "output_type": "execute_result"
    }
   ],
   "source": [
    "df"
   ]
  },
  {
   "cell_type": "markdown",
   "id": "49903b75",
   "metadata": {},
   "source": [
    "# Lưu vào trong elasticsearch 1 cột summary lại các nội dung của dữ liệu. Khi đó truy vấn vào vector này nhưng ta có thể trả về toàn bộ thông tin khác "
   ]
  },
  {
   "cell_type": "code",
   "execution_count": 11,
   "id": "28a19c03",
   "metadata": {},
   "outputs": [],
   "source": [
    "embed_model = SentenceTransformer('all-mpnet-base-v2')"
   ]
  },
  {
   "cell_type": "code",
   "execution_count": 12,
   "id": "9780b749",
   "metadata": {},
   "outputs": [],
   "source": [
    "\n",
    "df[\"SummaryVector\"] = df.apply(lambda row: f\"Giá nhà là: {row['Price']} có diện tích: {row['Area']}. \\\n",
    "    ở tại vị trí: {row['Position']} là 1 ngôi nhà dạng: {row['Type']} có những tiện ích như: {row['Benefit']}.\", axis=1)\n",
    "\n",
    "df[\"SummaryVector\"] = df[\"SummaryVector\"].apply(lambda x: embed_model.encode(x))"
   ]
  },
  {
   "cell_type": "markdown",
   "id": "19c4fe95",
   "metadata": {},
   "source": [
    "# Xóa document nếu muốn làm lại từ đầu "
   ]
  },
  {
   "cell_type": "code",
   "execution_count": 13,
   "id": "8059b37a",
   "metadata": {},
   "outputs": [
    {
     "data": {
      "text/plain": [
       "ObjectApiResponse({'acknowledged': True, 'shards_acknowledged': True, 'index': 'rag'})"
      ]
     },
     "execution_count": 13,
     "metadata": {},
     "output_type": "execute_result"
    }
   ],
   "source": [
    "index_name = 'rag'\n",
    "if es.indices.exists(index=index_name):\n",
    "    es.indices.delete(index=index_name)\n",
    "    print(f\"Index '{index_name}' deleted.\")\n",
    "es.indices.create(index=index_name, mappings=indexMapping)"
   ]
  },
  {
   "cell_type": "markdown",
   "id": "dbb0cf5a",
   "metadata": {},
   "source": [
    "# Lưu các index và Elasticsearch document"
   ]
  },
  {
   "cell_type": "code",
   "execution_count": 14,
   "id": "6e2fa532",
   "metadata": {},
   "outputs": [],
   "source": [
    "record_list = df.to_dict(\"records\")\n",
    "for record in record_list:\n",
    "    try:\n",
    "        es.index(index=\"rag\", document=record)\n",
    "    except Exception as e:\n",
    "        print(e)\n"
   ]
  },
  {
   "cell_type": "markdown",
   "id": "c0b66d75",
   "metadata": {},
   "source": [
    "# Lấy các giá trị dựa vào query vector"
   ]
  },
  {
   "cell_type": "code",
   "execution_count": 15,
   "id": "9234b6f0",
   "metadata": {},
   "outputs": [
    {
     "name": "stdout",
     "output_type": "stream",
     "text": [
      "{'Price': '14,2 tỷ', 'Area': '75 m²', 'Position': 'Phường Giang Biên, Long Biên, Hà Nội', 'Type': 'Bán-Hà Nội-Long Biên-Nhà riêng tại phường Giang Biên', 'Benefit': 'Mức giá: 14,2 tỷ - Diện tích: 75 m²'}\n",
      "{'Price': '13 triệu/tháng', 'Area': '108 m²', 'Position': 'Dự án Sunshine Green Iconic, Phường Phúc Đồng, Long Biên, Hà Nội', 'Type': 'Cho thuê-Hà Nội-Long Biên-Căn hộ chung cư tại Sunshine Green Iconic', 'Benefit': 'Mức giá: 13 triệu/tháng - Diện tích: 108 m² - Số phòng ngủ: 3 phòng - Nội thất: Phòng ngủ full sàn gồ, Lô gia nối thông siêu rộng. * Điều hòa âm trần Samsung, thiết bị điện thông minh điều khiển từ xa. * Khóa cửa điện tử, thiết bị vệ sinh Grohe, tủ bếp cao cấp thương hiệu Hafele,'}\n",
      "{'Price': '10 triệu/tháng', 'Area': '74 m²', 'Position': 'Sunshine Green Iconic, Phường Phúc Đồng, Long Biên, Hà Nội', 'Type': 'Cho thuê-Hà Nội-Long Biên-Căn hộ chung cư tại Sunshine Green Iconic', 'Benefit': 'Mức giá: 10 triệu/tháng - Diện tích: 74 m² - Số phòng ngủ: 2 phòng - Số phòng tắm, vệ sinh: 2 phòng - Hướng nhà: Tây - Nam - Hướng ban công: Đông - Bắc - Thời gian dự kiến vào ở: Ở ngay - Mức giá điện: Theo nhà cung cấp - Mức giá nước: Theo nhà cung cấp - Mức giá internet: Thỏa thuận - Tiện ích: Camera, Bảo vệ, PCCC - Nội thất: Cơ bản.'}\n",
      "{'Price': '10 triệu/tháng', 'Area': '80 m²', 'Position': 'Dự án Sunshine Green Iconic, Phường Phúc Đồng, Long Biên, Hà Nội', 'Type': 'Cho thuê-Hà Nội-Long Biên-Căn hộ chung cư tại Sunshine Green Iconic', 'Benefit': 'Mức giá: 10 triệu/tháng - Diện tích: 80 m² - Số phòng ngủ: 2 phòng'}\n",
      "{'Price': '18 triệu/tháng', 'Area': '56 m²', 'Position': \"Dự án Vinhomes D'Capitale, Đường Trần Duy Hưng, Phường Trung Hòa, Cầu Giấy, Hà Nội\", 'Type': \"Cho thuê-Hà Nội-Cầu Giấy-Văn phòng tại Vinhomes D'Capitale\", 'Benefit': 'Mức giá: 18 triệu/tháng - Diện tích: 56 m² - Số phòng tắm, vệ sinh: 1 phòng - Thời gian dự kiến vào ở: Ở ngay - Tiện ích: Camera, Bảo vệ, PCCC - Nội thất: Trang bị full nội thất: Điều hòa, ti vi, tủ lạnh, máy giặt, bếp từ, hút mùi, bàn ghế, sofa, tủ văn phòng...'}\n"
     ]
    },
    {
     "name": "stderr",
     "output_type": "stream",
     "text": [
      "C:\\Users\\Song\\AppData\\Local\\Temp\\ipykernel_19728\\767653832.py:9: GeneralAvailabilityWarning: This API is in technical preview and may be changed or removed in a future release. Elastic will work to fix any issues, but features in technical preview are not subject to the support SLA of official GA features.\n",
      "  res = es.knn_search(index=\"rag\", knn=query , source=[\"Price\",\"Area\",\"Position\",\"Type\",\"Benefit\"])\n",
      "C:\\Users\\Song\\AppData\\Local\\Temp\\ipykernel_19728\\767653832.py:9: ElasticsearchWarning: The kNN search API has been replaced by the `knn` option in the search API.\n",
      "  res = es.knn_search(index=\"rag\", knn=query , source=[\"Price\",\"Area\",\"Position\",\"Type\",\"Benefit\"])\n"
     ]
    }
   ],
   "source": [
    "max_candi = es.count(index=\"rag\")[\"count\"]\n",
    "if max_candi > 0:\n",
    "    query = {\n",
    "    \"field\" : \"SummaryVector\",\n",
    "    \"query_vector\" : embed_model.encode(\"Giá nhà tại Long Biên\"),\n",
    "    \"k\" : 5,\n",
    "    \"num_candidates\" : max_candi , \n",
    "}\n",
    "res = es.knn_search(index=\"rag\", knn=query , source=[\"Price\",\"Area\",\"Position\",\"Type\",\"Benefit\"])\n",
    "results = []\n",
    "\n",
    "for hit in res['hits']['hits']:\n",
    "    print(hit['_source'])"
   ]
  }
 ],
 "metadata": {
  "kernelspec": {
   "display_name": "agent",
   "language": "python",
   "name": "python3"
  },
  "language_info": {
   "codemirror_mode": {
    "name": "ipython",
    "version": 3
   },
   "file_extension": ".py",
   "mimetype": "text/x-python",
   "name": "python",
   "nbconvert_exporter": "python",
   "pygments_lexer": "ipython3",
   "version": "3.10.16"
  }
 },
 "nbformat": 4,
 "nbformat_minor": 5
}
