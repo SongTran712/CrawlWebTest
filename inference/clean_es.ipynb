{
 "cells": [
  {
   "cell_type": "markdown",
   "id": "67dd918d",
   "metadata": {},
   "source": [
    "# Kết nối Elasticsearch"
   ]
  },
  {
   "cell_type": "code",
   "execution_count": 1,
   "id": "7f0fbd9b",
   "metadata": {},
   "outputs": [
    {
     "name": "stderr",
     "output_type": "stream",
     "text": [
      "c:\\Users\\Song\\anaconda3\\envs\\agent\\lib\\site-packages\\tqdm\\auto.py:21: TqdmWarning: IProgress not found. Please update jupyter and ipywidgets. See https://ipywidgets.readthedocs.io/en/stable/user_install.html\n",
      "  from .autonotebook import tqdm as notebook_tqdm\n"
     ]
    },
    {
     "name": "stdout",
     "output_type": "stream",
     "text": [
      "{'name': '197a127364fe', 'cluster_name': 'docker-cluster', 'cluster_uuid': 'F8nIYeTDTp6xIkyVHNol4w', 'version': {'number': '8.15.0', 'build_flavor': 'default', 'build_type': 'docker', 'build_hash': '1a77947f34deddb41af25e6f0ddb8e830159c179', 'build_date': '2024-08-05T10:05:34.233336849Z', 'build_snapshot': False, 'lucene_version': '9.11.1', 'minimum_wire_compatibility_version': '7.17.0', 'minimum_index_compatibility_version': '7.0.0'}, 'tagline': 'You Know, for Search'}\n"
     ]
    }
   ],
   "source": [
    "import pandas as pd\n",
    "from elasticsearch import Elasticsearch\n",
    "from sentence_transformers import SentenceTransformer\n",
    "from indexMapping import indexMapping\n",
    "\n",
    "\n",
    "es = Elasticsearch(\n",
    "\"http://localhost:9200\",\n",
    ")\n",
    "client = es.info()\n",
    "print(client)"
   ]
  },
  {
   "cell_type": "markdown",
   "id": "856d502e",
   "metadata": {},
   "source": [
    "# Lọc CSV và lưu vào cleaned_data.csv"
   ]
  },
  {
   "cell_type": "code",
   "execution_count": null,
   "id": "8d334151",
   "metadata": {},
   "outputs": [],
   "source": [
    "\n",
    "df = pd.read_csv(\"../info/info.csv\")\n",
    "df = df.drop_duplicates()\n",
    "df = df.dropna()\n",
    "df.to_csv(\"../info/cleaned_data.csv\", index=False)"
   ]
  },
  {
   "cell_type": "markdown",
   "id": "49903b75",
   "metadata": {},
   "source": [
    "# Lưu vào trong elasticsearch 1 cột summary lại các nội dung của dữ liệu. Khi đó truy vấn vào vector này nhưng ta có thể trả về toàn bộ thông tin khác "
   ]
  },
  {
   "cell_type": "code",
   "execution_count": 4,
   "id": "28a19c03",
   "metadata": {},
   "outputs": [],
   "source": [
    "embed_model = SentenceTransformer('all-mpnet-base-v2')"
   ]
  },
  {
   "cell_type": "code",
   "execution_count": 11,
   "id": "9780b749",
   "metadata": {},
   "outputs": [],
   "source": [
    "\n",
    "df[\"SummaryVector\"] = df.apply(lambda row: f\"Giá nhà là: {row['Price']} có diện tích: {row['Area']}. \\\n",
    "    ở tại vị trí: {row['Position']} là 1 ngôi nhà dạng: {row['Type']} có những tiện ích như: {row['Benefit']}.\", axis=1)\n",
    "\n",
    "df[\"SummaryVector\"] = df[\"SummaryVector\"].apply(lambda x: embed_model.encode(x))"
   ]
  },
  {
   "cell_type": "markdown",
   "id": "19c4fe95",
   "metadata": {},
   "source": [
    "# Xóa document nếu muốn làm lại từ đầu "
   ]
  },
  {
   "cell_type": "code",
   "execution_count": 10,
   "id": "8059b37a",
   "metadata": {},
   "outputs": [
    {
     "name": "stdout",
     "output_type": "stream",
     "text": [
      "Index 'rag' deleted.\n"
     ]
    },
    {
     "data": {
      "text/plain": [
       "ObjectApiResponse({'acknowledged': True, 'shards_acknowledged': True, 'index': 'rag'})"
      ]
     },
     "execution_count": 10,
     "metadata": {},
     "output_type": "execute_result"
    }
   ],
   "source": [
    "index_name = 'rag'\n",
    "if es.indices.exists(index=index_name):\n",
    "    es.indices.delete(index=index_name)\n",
    "    print(f\"Index '{index_name}' deleted.\")\n",
    "es.indices.create(index=index_name, mappings=indexMapping)"
   ]
  },
  {
   "cell_type": "markdown",
   "id": "dbb0cf5a",
   "metadata": {},
   "source": [
    "# Lưu các index và Elasticsearch document"
   ]
  },
  {
   "cell_type": "code",
   "execution_count": 12,
   "id": "6e2fa532",
   "metadata": {},
   "outputs": [],
   "source": [
    "record_list = df.to_dict(\"records\")\n",
    "for record in record_list:\n",
    "    try:\n",
    "        es.index(index=\"rag\", document=record)\n",
    "    except Exception as e:\n",
    "        print(e)\n"
   ]
  },
  {
   "cell_type": "markdown",
   "id": "c0b66d75",
   "metadata": {},
   "source": [
    "# Lấy các giá trị dựa vào query vector"
   ]
  },
  {
   "cell_type": "code",
   "execution_count": null,
   "id": "9234b6f0",
   "metadata": {},
   "outputs": [
    {
     "name": "stdout",
     "output_type": "stream",
     "text": [
      "14,2 tỷ\n",
      "13 triệu/tháng\n",
      "10 triệu/tháng\n",
      "10 triệu/tháng\n",
      "15 triệu/tháng\n"
     ]
    },
    {
     "name": "stderr",
     "output_type": "stream",
     "text": [
      "C:\\Users\\Song\\AppData\\Local\\Temp\\ipykernel_31804\\3458814327.py:9: GeneralAvailabilityWarning: This API is in technical preview and may be changed or removed in a future release. Elastic will work to fix any issues, but features in technical preview are not subject to the support SLA of official GA features.\n",
      "  res = es.knn_search(index=\"rag\", knn=query , source=[\"Price\",\"Area\",\"Position\",\"Type\",\"Benefit\"])\n",
      "C:\\Users\\Song\\AppData\\Local\\Temp\\ipykernel_31804\\3458814327.py:9: ElasticsearchWarning: The kNN search API has been replaced by the `knn` option in the search API.\n",
      "  res = es.knn_search(index=\"rag\", knn=query , source=[\"Price\",\"Area\",\"Position\",\"Type\",\"Benefit\"])\n"
     ]
    }
   ],
   "source": [
    "max_candi = es.count(index=\"rag\")[\"count\"]\n",
    "if max_candi > 0:\n",
    "    query = {\n",
    "    \"field\" : \"SummaryVector\",\n",
    "    \"query_vector\" : embed_model.encode(\"Giá nhà tại Long Biên\"),\n",
    "    \"k\" : 5,\n",
    "    \"num_candidates\" : max_candi , \n",
    "}\n",
    "res = es.knn_search(index=\"rag\", knn=query , source=[\"Price\",\"Area\",\"Position\",\"Type\",\"Benefit\"])\n",
    "results = []\n",
    "\n",
    "for hit in res['hits']['hits']:\n",
    "    print(hit['_source'].get('Price'))"
   ]
  }
 ],
 "metadata": {
  "kernelspec": {
   "display_name": "agent",
   "language": "python",
   "name": "python3"
  },
  "language_info": {
   "codemirror_mode": {
    "name": "ipython",
    "version": 3
   },
   "file_extension": ".py",
   "mimetype": "text/x-python",
   "name": "python",
   "nbconvert_exporter": "python",
   "pygments_lexer": "ipython3",
   "version": "3.10.16"
  }
 },
 "nbformat": 4,
 "nbformat_minor": 5
}
